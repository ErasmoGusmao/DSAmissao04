{
 "cells": [
  {
   "cell_type": "markdown",
   "id": "4c62e913-b289-4392-819d-00bff5bc9322",
   "metadata": {},
   "source": [
    "## Rascunho de algorítimo de ordenação de valores "
   ]
  },
  {
   "cell_type": "code",
   "execution_count": 8,
   "id": "0c82dea3-7e7c-4801-b721-1b68edf92576",
   "metadata": {},
   "outputs": [
    {
     "name": "stdout",
     "output_type": "stream",
     "text": [
      "[-10, -3, 1, 2, 5, 5, 6, 7, 7]\n"
     ]
    }
   ],
   "source": [
    "lst = [5, 1, 7, 2, 6, -3, 5, 7, -10]\n",
    "\n",
    "temp = []                                            # Inicia uma lista temporária\n",
    "i = 0                                                # O contador para varrer a lista original\n",
    "j = i+1                                              # índice que varre a lista\n",
    "\n",
    "while i < len(lst):                                  # Varre toda a lista original\n",
    "    \n",
    "    if j < len(lst):                                 # Verifica se não chegou no final da lista\n",
    "        if lst[i] < lst[j]:                          # se o elemento for menor que o segunte\n",
    "            j += 1                                   # Avanço na varredura\n",
    "        else:                                        # O elemento não é menor\n",
    "            i = j                                    # Continuo a varredura do ponto onde encontrou um elemento menor\n",
    "            j += 1                                   # Atualizo o valor de j\n",
    "            \n",
    "    else:                                            # Chegou no final da lista\n",
    "        temp.append(lst[i])                          # Adiciona o menor elemento na lista temporária\n",
    "        del(lst[i])                                  # Remove o elemento d alista principal \n",
    "        i = 0                                        # avança na lista para varrer\n",
    "        j = i + 1\n",
    "        \n",
    "print(temp)"
   ]
  },
  {
   "cell_type": "markdown",
   "id": "4feb31c5-0adb-49d3-978b-c1c02bf30f41",
   "metadata": {},
   "source": [
    "#### Criando uma função de ordenação"
   ]
  },
  {
   "cell_type": "code",
   "execution_count": 17,
   "id": "aa27e1f1-c7a9-4e28-a30e-028c9fa3a183",
   "metadata": {},
   "outputs": [],
   "source": [
    "def sort_func1(lista):\n",
    "    temp = []                                            # Inicia uma lista temporária\n",
    "    i = 0                                                # O contador para varrer a lista original\n",
    "    j = i+1                                              # índice que varre a lista\n",
    "\n",
    "    while i < len(lista):                                  # Varre toda a lista original\n",
    "        if j < len(lista):                                 # Verifica se não chegou no final da lista\n",
    "            if lista[i] < lista[j]:                          # se o elemento for menor que o segunte\n",
    "                j += 1                                   # Avanço na varredura\n",
    "            else:                                        # O elemento não é menor\n",
    "                i = j                                    # Continuo a varredura do ponto onde encontrou um elemento menor\n",
    "                j += 1                                   # Atualizo o valor de j\n",
    "        else:                                            # Chegou no final da lista\n",
    "            temp.append(lista[i])                          # Adiciona o menor elemento na lista temporária\n",
    "            del(lista[i])                                  # Remove o elemento d alista principal\n",
    "            i = 0                                        # avança na lista para varrer\n",
    "            j = i + 1\n",
    "    return temp"
   ]
  },
  {
   "cell_type": "code",
   "execution_count": 18,
   "id": "eb4f73b1-9dcb-4051-8dd6-1d7780db7a03",
   "metadata": {},
   "outputs": [
    {
     "data": {
      "text/plain": [
       "[-10, -3, 1, 2, 5, 5, 6, 7, 7]"
      ]
     },
     "execution_count": 18,
     "metadata": {},
     "output_type": "execute_result"
    }
   ],
   "source": [
    "lst = [5, 1, 7, 2, 6, -3, 5, 7, -10]\n",
    "\n",
    "sort_func1(lst)"
   ]
  },
  {
   "cell_type": "code",
   "execution_count": 19,
   "id": "91d75d02-535d-45b0-a2fc-3d18fa6eee08",
   "metadata": {},
   "outputs": [
    {
     "ename": "TypeError",
     "evalue": "sort_func1() missing 1 required positional argument: 'lista'",
     "output_type": "error",
     "traceback": [
      "\u001b[1;31m---------------------------------------------------------------------------\u001b[0m",
      "\u001b[1;31mTypeError\u001b[0m                                 Traceback (most recent call last)",
      "\u001b[1;32m<ipython-input-19-e237594fdd93>\u001b[0m in \u001b[0;36m<module>\u001b[1;34m\u001b[0m\n\u001b[1;32m----> 1\u001b[1;33m \u001b[0msort_func1\u001b[0m\u001b[1;33m(\u001b[0m\u001b[1;33m)\u001b[0m\u001b[1;33m\u001b[0m\u001b[1;33m\u001b[0m\u001b[0m\n\u001b[0m",
      "\u001b[1;31mTypeError\u001b[0m: sort_func1() missing 1 required positional argument: 'lista'"
     ]
    }
   ],
   "source": [
    "sort_func1()"
   ]
  },
  {
   "cell_type": "code",
   "execution_count": 20,
   "id": "0fa732d3-0461-4524-ad88-eacf2f3c1440",
   "metadata": {},
   "outputs": [
    {
     "data": {
      "text/plain": [
       "[]"
      ]
     },
     "execution_count": 20,
     "metadata": {},
     "output_type": "execute_result"
    }
   ],
   "source": [
    "sort_func1([])"
   ]
  },
  {
   "cell_type": "code",
   "execution_count": 21,
   "id": "ec60806d-09e8-483d-b26b-87f7d7dc2dd2",
   "metadata": {},
   "outputs": [
    {
     "data": {
      "text/plain": [
       "[5]"
      ]
     },
     "execution_count": 21,
     "metadata": {},
     "output_type": "execute_result"
    }
   ],
   "source": [
    "sort_func1([5])"
   ]
  },
  {
   "cell_type": "markdown",
   "id": "03834de2-cac8-4e4c-a869-034259bdcdb6",
   "metadata": {},
   "source": [
    "## Solução do desafio"
   ]
  },
  {
   "cell_type": "code",
   "execution_count": null,
   "id": "25e37826-1409-4d15-9b8c-3e28641925e5",
   "metadata": {},
   "outputs": [],
   "source": [
    "class SelectionSort(object):\n",
    "\n",
    "    def sort(self, lista):\n",
    "        self.temp = []                                            # Inicia uma lista temporária\n",
    "        i = 0                                                # O contador para varrer a lista original\n",
    "        j = i+1                                              # índice que varre a lista\n",
    "\n",
    "        while i < len(lista):                                  # Varre toda a lista original\n",
    "            if j < len(lista):                                 # Verifica se não chegou no final da lista\n",
    "                if lista[i] < lista[j]:                          # se o elemento for menor que o segunte\n",
    "                    j += 1                                   # Avanço na varredura\n",
    "                else:                                        # O elemento não é menor\n",
    "                    i = j                                    # Continuo a varredura do ponto onde encontrou um elemento menor\n",
    "                    j += 1                                   # Atualizo o valor de j\n",
    "            else:                                            # Chegou no final da lista\n",
    "                self.temp.append(lista[i])                          # Adiciona o menor elemento na lista temporária\n",
    "                del(lista[i])                                  # Remove o elemento d alista principal\n",
    "                i = 0                                        # avança na lista para varrer\n",
    "                j = i + 1\n",
    "        return self.temp"
   ]
  }
 ],
 "metadata": {
  "kernelspec": {
   "display_name": "Python 3",
   "language": "python",
   "name": "python3"
  },
  "language_info": {
   "codemirror_mode": {
    "name": "ipython",
    "version": 3
   },
   "file_extension": ".py",
   "mimetype": "text/x-python",
   "name": "python",
   "nbconvert_exporter": "python",
   "pygments_lexer": "ipython3",
   "version": "3.8.8"
  }
 },
 "nbformat": 4,
 "nbformat_minor": 5
}
